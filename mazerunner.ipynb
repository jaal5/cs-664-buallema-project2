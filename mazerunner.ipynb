{
 "cells": [
  {
   "cell_type": "code",
   "execution_count": 2,
   "metadata": {},
   "outputs": [],
   "source": [
    "import keyboard\n",
    "import time"
   ]
  },
  {
   "cell_type": "markdown",
   "metadata": {},
   "source": [
    "### Input\n",
    "This is the maze expressed in a list of list. 1: blocked field 0: empty field"
   ]
  },
  {
   "cell_type": "code",
   "execution_count": 82,
   "metadata": {},
   "outputs": [],
   "source": [
    "lab = [[1,1,1,1,1,1,1,1,1,1,1,1,1,1],\n",
    "       [1,1,1,1,1,1,1,1,1,1,1,1,1,1],\n",
    "       [1,1,0,0,0,0,0,0,0,0,0,0,1,1],\n",
    "       [1,1,0,1,1,1,1,1,1,0,1,1,1,1],\n",
    "       [1,1,0,1,0,0,0,0,0,0,0,0,1,1],\n",
    "       [1,1,0,1,0,1,1,1,1,1,1,0,1,1],\n",
    "       [1,1,0,1,0,1,0,0,0,0,0,0,1,1],\n",
    "       [1,1,0,0,0,1,1,0,1,1,1,0,1,1],\n",
    "       [1,1,0,1,0,0,0,0,1,0,1,1,1,1],\n",
    "       [1,1,0,1,1,0,1,0,0,0,0,0,1,1],\n",
    "       [1,1,0,1,0,0,1,1,1,1,1,0,1,1],\n",
    "       [1,1,0,0,0,1,1,0,0,0,0,0,1,1],\n",
    "       [1,1,1,1,1,1,1,1,1,1,1,1,1,1],\n",
    "       [1,1,1,1,1,1,1,1,1,1,1,1,1,1]]\n",
    "\n",
    "dim_y = len(lab)\n",
    "dim_x = len(lab[0])"
   ]
  },
  {
   "cell_type": "code",
   "execution_count": 111,
   "metadata": {},
   "outputs": [],
   "source": [
    "lab =   [[1,1,1,1,1,1,1,1,1,1,1,1,1,1,1,1,1,1,1,1,1],\n",
    "        [1,0,0,0,0,0,0,0,0,0,0,0,0,0,0,0,0,0,0,0,1],\n",
    "        [1,0,1,0,1,1,1,1,1,1,1,0,1,1,1,1,1,1,1,0,1],\n",
    "        [1,0,1,0,1,0,0,0,0,0,1,0,1,0,0,0,0,0,1,0,1],\n",
    "        [1,0,1,0,1,1,1,0,1,1,1,0,1,0,1,1,1,0,0,0,1],\n",
    "        [1,0,1,0,0,0,0,0,0,0,0,0,0,0,0,0,0,0,1,0,1],\n",
    "        [1,0,1,1,0,1,0,1,1,1,1,1,1,1,1,1,1,1,1,0,1],\n",
    "        [1,0,0,1,0,1,1,1,0,0,0,0,0,0,0,0,0,0,0,0,1],\n",
    "        [1,1,0,0,0,0,0,0,0,1,1,1,0,1,1,1,0,1,1,1,1],\n",
    "        [1,1,1,1,1,1,1,1,0,1,0,1,0,0,1,0,0,0,0,0,1],\n",
    "        [1,0,0,0,0,0,0,0,0,1,0,1,1,0,1,0,1,0,1,1,1],\n",
    "        [1,1,1,1,1,0,1,0,0,1,0,0,0,0,1,0,1,0,1,0,1],\n",
    "        [1,0,0,0,1,0,1,0,1,1,1,1,1,0,0,0,1,1,1,0,1],\n",
    "        [1,0,1,0,0,0,1,0,0,0,0,0,0,0,1,0,0,0,0,0,1],\n",
    "        [1,1,1,1,0,1,1,1,1,0,1,1,1,1,1,1,1,1,1,0,1],\n",
    "        [1,0,0,1,0,0,0,0,0,0,0,0,0,0,0,0,0,0,0,0,1],\n",
    "        [1,0,1,1,0,1,0,1,0,1,1,1,1,1,0,1,1,1,1,0,1],\n",
    "        [1,0,0,0,0,1,0,1,1,1,0,1,0,1,0,0,1,0,1,0,1],\n",
    "        [1,1,1,1,1,1,0,0,0,0,0,0,0,0,0,0,0,0,1,0,1],\n",
    "        [1,0,0,0,1,0,0,0,1,1,1,1,1,0,1,1,1,1,1,0,1],\n",
    "        [1,0,1,0,1,1,1,1,1,0,0,0,1,0,0,1,0,0,1,0,1],\n",
    "        [1,0,1,0,1,0,0,0,1,0,1,0,1,1,1,1,0,1,1,0,1],\n",
    "        [1,0,0,0,0,0,1,0,0,0,1,0,0,0,0,0,0,0,0,0,1],\n",
    "        [1,1,1,1,1,1,1,1,1,1,1,1,1,1,1,1,1,1,1,1,1]]\n",
    "\n",
    "dim_y = len(lab)\n",
    "dim_x = len(lab[0])"
   ]
  },
  {
   "cell_type": "markdown",
   "metadata": {},
   "source": [
    "### Plot functions"
   ]
  },
  {
   "cell_type": "code",
   "execution_count": 109,
   "metadata": {},
   "outputs": [],
   "source": [
    "%matplotlib inline\n",
    "import matplotlib.pyplot as plt\n",
    "import copy\n",
    "def plot_board(position,lab):\n",
    "    try:\n",
    "        fig.clear()\n",
    "    except:\n",
    "        fig = plt.figure(figsize=(6,6))\n",
    "\n",
    "        ax1 = fig.add_subplot(1,1,1)\n",
    "\n",
    "        # Make a 9x9 grid...\n",
    "        image = copy.deepcopy(lab)\n",
    "        image[position.y][position.x] = 2\n",
    "        image[target_point.y][target_point.x] = 3\n",
    "        ax1.matshow(image)\n",
    "        plt.show()\n",
    "\n",
    "%matplotlib inline\n",
    "import matplotlib.pyplot as plt\n",
    "def plot_board_hidden(position,lab):\n",
    "    try:\n",
    "        fig.clear()\n",
    "    except:\n",
    "        fig = plt.figure(figsize=(6,6))\n",
    "\n",
    "        ax1 = fig.add_subplot(1,1,1)\n",
    "\n",
    "        image = np.ones((dim_y,dim_x),dtype=int)\n",
    "        for (x,y) in position.all_neighbours:\n",
    "            image[y][x] = lab[y][x]\n",
    "        image[position.y][position.x] = 2\n",
    "        \n",
    "        ax1.matshow(image)\n",
    "        plt.show()\n",
    "        \n",
    "%matplotlib inline\n",
    "import matplotlib.pyplot as plt\n",
    "def plot_solution_path(lab_pddl):\n",
    "    fig = plt.figure(figsize=(6,6))\n",
    "    ax1 = fig.add_subplot(1,1,1)\n",
    "    ax1.matshow(lab_pddl)\n",
    "    plt.show()"
   ]
  },
  {
   "cell_type": "markdown",
   "metadata": {},
   "source": [
    "# Build the world and environment"
   ]
  },
  {
   "cell_type": "code",
   "execution_count": 84,
   "metadata": {},
   "outputs": [],
   "source": [
    "allneighb = []\n",
    "for y in range(-2,3):\n",
    "    for x in range(-2,3):\n",
    "        allneighb.append((x,y))\n",
    "\n",
    "class Field:\n",
    "    def __init__ (self, x, y):\n",
    "        self.x = x\n",
    "        self.y = y\n",
    "        self.neighbours = [ (x + xoff, y + yoff) for xoff, yoff in\n",
    "            ( (1, 0), (0, 1), (0, -1), (-1, 0) )\n",
    "            if lab [y + yoff] [x + xoff] != 1 ]\n",
    "        self.all_neighbours = [ (x + xoff, y + yoff) for xoff, yoff in\n",
    "            tuple(allneighb)]\n",
    "        self.distance = ...\n",
    "        self.path = ...\n",
    "        self.visited = False\n",
    "        \n",
    "        if len(self.neighbours) == 1:\n",
    "            self.fieldtype = 'dead end'\n",
    "        if len(self.neighbours) >= 3:\n",
    "            self.fieldtype = 'fork'\n",
    "        if len(self.neighbours) == 2:\n",
    "            neighbour1, neighbour2 = self.neighbours\n",
    "            x1, y1 = neighbour1\n",
    "            x2, y2 = neighbour2\n",
    "            if x1 != x2 and y1 != y2:\n",
    "                self.fieldtype = 'corner'\n",
    "            else:\n",
    "                self.fieldtype = 'straight path'\n",
    "        \n",
    "    def get_options(self):\n",
    "        self.options = []\n",
    "        for option in self.neighbours:\n",
    "            xopt = option[0]\n",
    "            yopt = option[1]\n",
    "            if xopt > self.x and yopt == self.y:\n",
    "                option = 'right'\n",
    "            if xopt < self.x and yopt == self.y:\n",
    "                option ='left'\n",
    "            if xopt == self.x and yopt < self.y:\n",
    "                option ='up'\n",
    "            if xopt == self.x and yopt > self.y:\n",
    "                option = 'down'\n",
    "            self.options.append(option)\n",
    "        return self.options\n",
    "\n",
    "    def __repr__ (self):\n",
    "        return '{}: ({})'.format ( (self.x, self.y), self.neighbours)\n",
    "\n",
    "def get_fields():\n",
    "    fields = {}\n",
    "    for y in range (dim_y):\n",
    "        for x in range (dim_x):\n",
    "            if lab [y] [x]: continue\n",
    "            fields [x, y] = Field (x, y)\n",
    "    return fields\n",
    "\n",
    "fields = get_fields()"
   ]
  },
  {
   "cell_type": "markdown",
   "metadata": {},
   "source": [
    "### Find all direct neighbors\n",
    "For PDDL implementation without metric"
   ]
  },
  {
   "cell_type": "code",
   "execution_count": 85,
   "metadata": {},
   "outputs": [],
   "source": [
    "# neighbours\n",
    "neighbourslist = []\n",
    "for y in range (dim_y):\n",
    "    for x in range (dim_x):\n",
    "        if lab [y] [x]: continue\n",
    "        field = Field(x, y)\n",
    "        neighbours = field.neighbours\n",
    "        for neighbour in neighbours:\n",
    "            start = 'x'+str(field.x)+'y'+str(field.y)\n",
    "            endx = neighbour[0]\n",
    "            endy = neighbour[1]\n",
    "            end = 'x'+str(endx)+'y'+str(endy)\n",
    "            entry = '(neighbour ' + str(start) + ' ' + str(end) + ')'\n",
    "            neighbourslist.append(entry)"
   ]
  },
  {
   "cell_type": "code",
   "execution_count": 86,
   "metadata": {
    "scrolled": true
   },
   "outputs": [],
   "source": [
    "# objects\n",
    "objectslist = []\n",
    "for y in range (dim_y):\n",
    "    for x in range (dim_x):\n",
    "        if lab [y] [x]: continue\n",
    "        field = Field(x, y)   \n",
    "        start = 'x'+str(field.x)+'y'+str(field.y)\n",
    "        objectslist.append(start)"
   ]
  },
  {
   "cell_type": "code",
   "execution_count": 87,
   "metadata": {},
   "outputs": [],
   "source": [
    "# save to txt file\n",
    "f=open('PDDL-objects.txt','w')\n",
    "for row in objectslist:\n",
    "    entry = row + '\\n'\n",
    "    f.write(entry)\n",
    "f.close()"
   ]
  },
  {
   "cell_type": "code",
   "execution_count": 88,
   "metadata": {},
   "outputs": [],
   "source": [
    "# save to txt file\n",
    "f=open('PDDL-init.txt','w')\n",
    "for row in neighbourslist:\n",
    "    entry = row + '\\n'\n",
    "    f.write(entry)\n",
    "f.close()"
   ]
  },
  {
   "cell_type": "markdown",
   "metadata": {},
   "source": [
    "### Find paths to neighbors\n",
    "For PDDL implementation with metric. Unfortunately, These functions cannot be used yet since the PDDL is not capable of dealing with metrics. The next update of the PDDL solver should be capable of doing so."
   ]
  },
  {
   "cell_type": "code",
   "execution_count": 89,
   "metadata": {},
   "outputs": [],
   "source": [
    "def move(position,direction):\n",
    "    if direction == 'up':\n",
    "        xdir = 0\n",
    "        ydir = -1\n",
    "    if direction == 'down':\n",
    "        xdir = 0\n",
    "        ydir = 1\n",
    "    if direction == 'right':\n",
    "        xdir = 1\n",
    "        ydir = 0\n",
    "    if direction == 'left':\n",
    "        xdir = -1\n",
    "        ydir = 0\n",
    "    \n",
    "    # move if possible\n",
    "    possibilities = Field(position.x,position.y).neighbours\n",
    "    if (position.x + xdir, position.y + ydir) in possibilities:\n",
    "        position_new = Field(position.x + xdir, position.y + ydir)\n",
    "        #print(position)\n",
    "        return position_new, position_new\n",
    "    else:\n",
    "        position_new = position\n",
    "        return 'invalid', position_new"
   ]
  },
  {
   "cell_type": "code",
   "execution_count": 90,
   "metadata": {},
   "outputs": [],
   "source": [
    "def walk_to_fork(position,direction):\n",
    "    while True:\n",
    "        position, position_fork = move(position,direction)\n",
    "        if position == 'invalid':\n",
    "            #print('invalid move')\n",
    "            break\n",
    "        if len(position.neighbours) > 2:\n",
    "            #print('this is a fork')\n",
    "            break\n",
    "    return position_fork"
   ]
  },
  {
   "cell_type": "code",
   "execution_count": 91,
   "metadata": {},
   "outputs": [],
   "source": [
    "def get_paths(origin):\n",
    "    next_fork = []\n",
    "    for option in origin.get_options():\n",
    "        position = walk_to_fork(origin, option)\n",
    "        next_fork.append((position.x,position.y))\n",
    "    #print('from this position you can go to:', next_fork)\n",
    "    return next_fork"
   ]
  },
  {
   "cell_type": "markdown",
   "metadata": {},
   "source": [
    "# Solve the maze"
   ]
  },
  {
   "cell_type": "code",
   "execution_count": 113,
   "metadata": {},
   "outputs": [
    {
     "data": {
      "image/png": "[encoded data removed]",
      "text/plain": [
       "<Figure size 432x432 with 1 Axes>"
      ]
     },
     "metadata": {
      "needs_background": "light"
     },
     "output_type": "display_data"
    }
   ],
   "source": [
    "# As a reminder how the empty board looks like\n",
    "lab_input = copy.deepcopy(lab)\n",
    "lab_input[0][0] = 3\n",
    "lab_input[0][1] = 4\n",
    "plot_solution_path(lab_input)"
   ]
  },
  {
   "cell_type": "code",
   "execution_count": 114,
   "metadata": {},
   "outputs": [
    {
     "data": {
      "image/png": "[encoded data removed]",
      "text/plain": [
       "<Figure size 432x432 with 1 Axes>"
      ]
     },
     "metadata": {
      "needs_background": "light"
     },
     "output_type": "display_data"
    }
   ],
   "source": [
    "starting_point = Field(9,3) # (x,y)\n",
    "target_point = Field(1,20) # (x,y)\n",
    "\n",
    "lab_input[starting_point.y][starting_point.x] = 3\n",
    "lab_input[target_point.y][target_point.x] = 4\n",
    "lab_input[0][0] = 1\n",
    "lab_input[0][1] = 1\n",
    "\n",
    "plot_solution_path(lab_input)"
   ]
  },
  {
   "cell_type": "markdown",
   "metadata": {},
   "source": [
    "### A* as benchmark\n",
    "To compare, if A* and PDDL finds the same solution"
   ]
  },
  {
   "cell_type": "code",
   "execution_count": 115,
   "metadata": {},
   "outputs": [],
   "source": [
    "fields = get_fields()\n",
    "\n",
    "# initialize the starting point\n",
    "current = starting_point\n",
    "current.distance = 0\n",
    "current.path = []\n",
    "\n",
    "# all fields are unvisited\n",
    "unvisited = set(fields.keys ())\n",
    "\n",
    "while True:\n",
    "    dist = current.distance + 1\n",
    "    for nx, ny in current.neighbours:\n",
    "        if (nx, ny) not in unvisited: continue\n",
    "        neighbour = fields [nx, ny]\n",
    "        if neighbour.distance is ... or neighbour.distance > dist:\n",
    "            neighbour.distance = dist\n",
    "            neighbour.path = current.path + [ (current.x, current.y) ]\n",
    "    current.visited = True\n",
    "    unvisited.remove ( (current.x, current.y) )\n",
    "    if not unvisited: break\n",
    "    current = sorted ( [node for node in fields.values ()\n",
    "        if not node.visited and node.distance is not ...],\n",
    "        key = lambda node: node.distance) [0]\n",
    "target_point = fields [target_point.x, target_point.y]\n",
    "\n",
    "path = target_point.path + [ (target_point.x, target_point.y) ]"
   ]
  },
  {
   "cell_type": "markdown",
   "metadata": {},
   "source": [
    "# Visualization"
   ]
  },
  {
   "cell_type": "markdown",
   "metadata": {},
   "source": [
    "### Compare PDDL to A*"
   ]
  },
  {
   "cell_type": "code",
   "execution_count": 116,
   "metadata": {},
   "outputs": [],
   "source": [
    "file = open('PDDL_output_complex.txt','r').read()\n",
    "import re\n",
    "import numpy as np\n",
    "\n",
    "start = (starting_point.x,starting_point.y) #(x,y)\n",
    "end = (target_point.x,target_point.y) #(x,y)\n",
    "\n",
    "split = re.split('; |, |\\)|\\ |\\n',file)\n",
    "\n",
    "res = [i for i in split if 'x' in i]\n",
    "\n",
    "\n",
    "arr = np.array(res)\n",
    "arr = np.unique(arr)\n",
    "lab_pddl = copy.deepcopy(lab)\n",
    "for element in arr:\n",
    "    y = int(element.split('y')[1])\n",
    "    x = element.split('y')[0]\n",
    "    x = int(x.split('x')[1])\n",
    "    lab_pddl[y][x] = 2\n",
    "# define start position\n",
    "lab_pddl[starting_point.y][starting_point.x] = 4\n",
    "# define target position\n",
    "lab_pddl[target_point.y][target_point.x] = 3"
   ]
  },
  {
   "cell_type": "code",
   "execution_count": 117,
   "metadata": {},
   "outputs": [],
   "source": [
    "lab_astar = copy.deepcopy(lab)\n",
    "for element in path:\n",
    "    y = element[1]\n",
    "    x = element[0]\n",
    "    lab_astar[y][x] = 2\n",
    "lab_astar[starting_point.y][starting_point.x] = 4\n",
    "# define target position\n",
    "lab_astar[target_point.y][target_point.x] = 3"
   ]
  },
  {
   "cell_type": "code",
   "execution_count": 118,
   "metadata": {},
   "outputs": [
    {
     "name": "stdout",
     "output_type": "stream",
     "text": [
      "Path found by PDDL:\n",
      "number of steps: 68\n"
     ]
    },
    {
     "data": {
      "image/png": "[encoded data removed]",
      "text/plain": [
       "<Figure size 432x432 with 1 Axes>"
      ]
     },
     "metadata": {
      "needs_background": "light"
     },
     "output_type": "display_data"
    },
    {
     "name": "stdout",
     "output_type": "stream",
     "text": [
      "Path found by A*:\n",
      "number of steps: 68\n"
     ]
    },
    {
     "data": {
      "image/png": "[encoded data removed]",
      "text/plain": [
       "<Figure size 432x432 with 1 Axes>"
      ]
     },
     "metadata": {
      "needs_background": "light"
     },
     "output_type": "display_data"
    }
   ],
   "source": [
    "print('Path found by PDDL:\\nnumber of steps:', len(arr))\n",
    "plot_solution_path(lab_pddl)\n",
    "print('Path found by A*:\\nnumber of steps:', len(path))\n",
    "plot_solution_path(lab_astar)"
   ]
  },
  {
   "cell_type": "markdown",
   "metadata": {},
   "source": [
    "# Playground"
   ]
  },
  {
   "cell_type": "markdown",
   "metadata": {},
   "source": [
    "### User Input to walk the maze\n",
    "This is not need at all. But it shows very nicely, how the above functions work"
   ]
  },
  {
   "cell_type": "code",
   "execution_count": 46,
   "metadata": {},
   "outputs": [],
   "source": [
    "def key_detect():\n",
    "    while True:  # making a loop\n",
    "        if keyboard.is_pressed('up arrow'):\n",
    "            print('Up!')\n",
    "            direction = 'up'\n",
    "            break  # finishing the loop\n",
    "        if keyboard.is_pressed('down arrow'):\n",
    "            print('Down!')\n",
    "            direction = 'down'\n",
    "            break  # finishing the loop\n",
    "        if keyboard.is_pressed('left arrow'):\n",
    "            print('Left!')\n",
    "            direction = 'left'\n",
    "            break  # finishing the loop\n",
    "        if keyboard.is_pressed('right arrow'):\n",
    "            print('Right!')\n",
    "            direction = 'right'\n",
    "            break  # finishing the loop\n",
    "        if keyboard.is_pressed('esc'):\n",
    "            print('Exit game')\n",
    "            direction = -1\n",
    "            break\n",
    "    return direction"
   ]
  },
  {
   "cell_type": "code",
   "execution_count": 95,
   "metadata": {},
   "outputs": [
    {
     "data": {
      "image/png": "[encoded data removed]",
      "text/plain": [
       "<Figure size 720x360 with 1 Axes>"
      ]
     },
     "metadata": {
      "needs_background": "light"
     },
     "output_type": "display_data"
    },
    {
     "name": "stdout",
     "output_type": "stream",
     "text": [
      "Exit game\n"
     ]
    },
    {
     "ename": "UnboundLocalError",
     "evalue": "local variable 'xdir' referenced before assignment",
     "output_type": "error",
     "traceback": [
      "\u001b[1;31m---------------------------------------------------------------------------\u001b[0m",
      "\u001b[1;31mUnboundLocalError\u001b[0m                         Traceback (most recent call last)",
      "\u001b[1;32m<ipython-input-95-ee950466b7c1>\u001b[0m in \u001b[0;36m<module>\u001b[1;34m\u001b[0m\n\u001b[0;32m      7\u001b[0m \u001b[1;32mwhile\u001b[0m \u001b[1;32mTrue\u001b[0m\u001b[1;33m:\u001b[0m\u001b[1;33m\u001b[0m\u001b[1;33m\u001b[0m\u001b[0m\n\u001b[0;32m      8\u001b[0m     \u001b[0mdirection\u001b[0m \u001b[1;33m=\u001b[0m \u001b[0mkey_detect\u001b[0m\u001b[1;33m(\u001b[0m\u001b[1;33m)\u001b[0m\u001b[1;33m\u001b[0m\u001b[1;33m\u001b[0m\u001b[0m\n\u001b[1;32m----> 9\u001b[1;33m     \u001b[0mposition\u001b[0m \u001b[1;33m=\u001b[0m \u001b[0mwalk_to_fork\u001b[0m\u001b[1;33m(\u001b[0m\u001b[0mposition\u001b[0m\u001b[1;33m,\u001b[0m\u001b[0mdirection\u001b[0m\u001b[1;33m)\u001b[0m\u001b[1;33m\u001b[0m\u001b[1;33m\u001b[0m\u001b[0m\n\u001b[0m\u001b[0;32m     10\u001b[0m     \u001b[0mclear_output\u001b[0m\u001b[1;33m(\u001b[0m\u001b[0mwait\u001b[0m\u001b[1;33m=\u001b[0m\u001b[1;32mTrue\u001b[0m\u001b[1;33m)\u001b[0m\u001b[1;33m\u001b[0m\u001b[1;33m\u001b[0m\u001b[0m\n\u001b[0;32m     11\u001b[0m     \u001b[0mplot_board\u001b[0m\u001b[1;33m(\u001b[0m\u001b[0mposition\u001b[0m\u001b[1;33m,\u001b[0m\u001b[0mlab\u001b[0m\u001b[1;33m)\u001b[0m\u001b[1;33m\u001b[0m\u001b[1;33m\u001b[0m\u001b[0m\n",
      "\u001b[1;32m<ipython-input-93-656d84b3d9b1>\u001b[0m in \u001b[0;36mwalk_to_fork\u001b[1;34m(position, direction)\u001b[0m\n\u001b[0;32m      1\u001b[0m \u001b[1;32mdef\u001b[0m \u001b[0mwalk_to_fork\u001b[0m\u001b[1;33m(\u001b[0m\u001b[0mposition\u001b[0m\u001b[1;33m,\u001b[0m\u001b[0mdirection\u001b[0m\u001b[1;33m)\u001b[0m\u001b[1;33m:\u001b[0m\u001b[1;33m\u001b[0m\u001b[1;33m\u001b[0m\u001b[0m\n\u001b[0;32m      2\u001b[0m     \u001b[1;32mwhile\u001b[0m \u001b[1;32mTrue\u001b[0m\u001b[1;33m:\u001b[0m\u001b[1;33m\u001b[0m\u001b[1;33m\u001b[0m\u001b[0m\n\u001b[1;32m----> 3\u001b[1;33m         \u001b[0mposition\u001b[0m\u001b[1;33m,\u001b[0m \u001b[0mposition_fork\u001b[0m \u001b[1;33m=\u001b[0m \u001b[0mmove\u001b[0m\u001b[1;33m(\u001b[0m\u001b[0mposition\u001b[0m\u001b[1;33m,\u001b[0m\u001b[0mdirection\u001b[0m\u001b[1;33m)\u001b[0m\u001b[1;33m\u001b[0m\u001b[1;33m\u001b[0m\u001b[0m\n\u001b[0m\u001b[0;32m      4\u001b[0m         \u001b[1;32mif\u001b[0m \u001b[0mposition\u001b[0m \u001b[1;33m==\u001b[0m \u001b[1;34m'invalid'\u001b[0m\u001b[1;33m:\u001b[0m\u001b[1;33m\u001b[0m\u001b[1;33m\u001b[0m\u001b[0m\n\u001b[0;32m      5\u001b[0m             \u001b[1;31m#print('invalid move')\u001b[0m\u001b[1;33m\u001b[0m\u001b[1;33m\u001b[0m\u001b[1;33m\u001b[0m\u001b[0m\n",
      "\u001b[1;32m<ipython-input-92-72f47b1e7d2a>\u001b[0m in \u001b[0;36mmove\u001b[1;34m(position, direction)\u001b[0m\n\u001b[0;32m     15\u001b[0m     \u001b[1;31m# move if possible\u001b[0m\u001b[1;33m\u001b[0m\u001b[1;33m\u001b[0m\u001b[1;33m\u001b[0m\u001b[0m\n\u001b[0;32m     16\u001b[0m     \u001b[0mpossibilities\u001b[0m \u001b[1;33m=\u001b[0m \u001b[0mField\u001b[0m\u001b[1;33m(\u001b[0m\u001b[0mposition\u001b[0m\u001b[1;33m.\u001b[0m\u001b[0mx\u001b[0m\u001b[1;33m,\u001b[0m\u001b[0mposition\u001b[0m\u001b[1;33m.\u001b[0m\u001b[0my\u001b[0m\u001b[1;33m)\u001b[0m\u001b[1;33m.\u001b[0m\u001b[0mneighbours\u001b[0m\u001b[1;33m\u001b[0m\u001b[1;33m\u001b[0m\u001b[0m\n\u001b[1;32m---> 17\u001b[1;33m     \u001b[1;32mif\u001b[0m \u001b[1;33m(\u001b[0m\u001b[0mposition\u001b[0m\u001b[1;33m.\u001b[0m\u001b[0mx\u001b[0m \u001b[1;33m+\u001b[0m \u001b[0mxdir\u001b[0m\u001b[1;33m,\u001b[0m \u001b[0mposition\u001b[0m\u001b[1;33m.\u001b[0m\u001b[0my\u001b[0m \u001b[1;33m+\u001b[0m \u001b[0mydir\u001b[0m\u001b[1;33m)\u001b[0m \u001b[1;32min\u001b[0m \u001b[0mpossibilities\u001b[0m\u001b[1;33m:\u001b[0m\u001b[1;33m\u001b[0m\u001b[1;33m\u001b[0m\u001b[0m\n\u001b[0m\u001b[0;32m     18\u001b[0m         \u001b[0mposition_new\u001b[0m \u001b[1;33m=\u001b[0m \u001b[0mField\u001b[0m\u001b[1;33m(\u001b[0m\u001b[0mposition\u001b[0m\u001b[1;33m.\u001b[0m\u001b[0mx\u001b[0m \u001b[1;33m+\u001b[0m \u001b[0mxdir\u001b[0m\u001b[1;33m,\u001b[0m \u001b[0mposition\u001b[0m\u001b[1;33m.\u001b[0m\u001b[0my\u001b[0m \u001b[1;33m+\u001b[0m \u001b[0mydir\u001b[0m\u001b[1;33m)\u001b[0m\u001b[1;33m\u001b[0m\u001b[1;33m\u001b[0m\u001b[0m\n\u001b[0;32m     19\u001b[0m         \u001b[1;31m#print(position)\u001b[0m\u001b[1;33m\u001b[0m\u001b[1;33m\u001b[0m\u001b[1;33m\u001b[0m\u001b[0m\n",
      "\u001b[1;31mUnboundLocalError\u001b[0m: local variable 'xdir' referenced before assignment"
     ]
    }
   ],
   "source": [
    "# initialize position\n",
    "# field(2,2) is top left corner\n",
    "position = starting_point\n",
    "\n",
    "from IPython.display import clear_output\n",
    "plot_board(position,lab)\n",
    "while True:\n",
    "    direction = key_detect()\n",
    "    position = walk_to_fork(position,direction)\n",
    "    clear_output(wait=True)\n",
    "    plot_board(position,lab)\n",
    "    time.sleep(1)"
   ]
  }
 ],
 "metadata": {
  "kernelspec": {
   "display_name": "Python 3",
   "language": "python",
   "name": "python3"
  },
  "language_info": {
   "codemirror_mode": {
    "name": "ipython",
    "version": 3
   },
   "file_extension": ".py",
   "mimetype": "text/x-python",
   "name": "python",
   "nbconvert_exporter": "python",
   "pygments_lexer": "ipython3",
   "version": "3.7.6"
  }
 },
 "nbformat": 4,
 "nbformat_minor": 2
}
